{
 "cells": [
  {
   "cell_type": "markdown",
   "metadata": {},
   "source": [
    "# Analyse de la maille cristalline"
   ]
  },
  {
   "cell_type": "code",
   "execution_count": 1,
   "metadata": {},
   "outputs": [],
   "source": [
    "# Anatole Moureaux\n",
    "# 20 Feb 2020\n",
    "\n",
    "from pymatgen.ext.matproj import MPRester\n",
    "from pymatgen.io.cif import CifWriter\n",
    "from pymatgen.symmetry.analyzer import *\n",
    "from tabulate import tabulate"
   ]
  },
  {
   "cell_type": "markdown",
   "metadata": {},
   "source": [
    "## Téléchargement du fichier CIF symmetrized"
   ]
  },
  {
   "cell_type": "code",
   "execution_count": 2,
   "metadata": {},
   "outputs": [
    {
     "name": "stdout",
     "output_type": "stream",
     "text": [
      "Téléchargement du fichier CIF...\n",
      "Téléchargement terminé !\n"
     ]
    }
   ],
   "source": [
    "#mission 4\n",
    "print(\"Téléchargement du fichier CIF...\")\n",
    "structure = MPRester(\"H45GsyS7rpfkZzFI\").get_structure_by_material_id(\"mp-9361\")\n",
    "CifWriter(structure,0.1, write_magmoms=False).write_file(\"RbLaS2_mp-9361_symmetrized.cif\")\n",
    "print(\"Téléchargement terminé !\")"
   ]
  },
  {
   "cell_type": "markdown",
   "metadata": {},
   "source": [
    "## Analyse des paramètres de la maille cristalline"
   ]
  },
  {
   "cell_type": "code",
   "execution_count": 3,
   "metadata": {},
   "outputs": [
    {
     "name": "stdout",
     "output_type": "stream",
     "text": [
      "Caractéristiques géométriques :\n",
      "Full Formula (Rb1 La1 S2)\n",
      "Reduced Formula: RbLaS2\n",
      "abc   :   8.077087   8.077087   8.077087\n",
      "angles:  31.068526  31.068526  31.068526\n",
      "Sites (4)\n",
      "  #  SP           a         b         c\n",
      "---  ----  --------  --------  --------\n",
      "  0  Rb    0         0         0\n",
      "  1  La    0.5       0.5       0.5\n",
      "  2  S     0.767527  0.767527  0.767527\n",
      "  3  S     0.232473  0.232473  0.232473\n",
      "\n",
      "\n"
     ]
    }
   ],
   "source": [
    "#mission 5\n",
    "\n",
    "#réseau direct\n",
    "directNetwork = structure.lattice\n",
    "\n",
    "#affichage des caractéristiques géométriques\n",
    "#de la cellule primitive\n",
    "print(\"Caractéristiques géométriques :\")\n",
    "spa = SpacegroupAnalyzer(structure,0.1)\n",
    "data = spa.get_primitive_standard_structure()\n",
    "print(data)\n",
    "print(\"\\n\")"
   ]
  },
  {
   "cell_type": "code",
   "execution_count": 4,
   "metadata": {},
   "outputs": [
    {
     "name": "stdout",
     "output_type": "stream",
     "text": [
      "Vecteurs de base du réseau direct :\n",
      "[[4.16828463 0.         6.91843428]\n",
      " [1.92310779 3.69814186 6.91843428]\n",
      " [0.         0.         8.0770867 ]]\n",
      "\n",
      "\n"
     ]
    }
   ],
   "source": [
    "#calcul et affichage des vecteurs de base\n",
    "a=data.lattice.a\n",
    "alpha=data.lattice.alpha\n",
    "print(\"Vecteurs de base du réseau direct :\")\n",
    "print(SpacegroupAnalyzer(data).find_primitive().lattice.rhombohedral(a,alpha).matrix)\n",
    "print(\"\\n\")"
   ]
  },
  {
   "cell_type": "code",
   "execution_count": 5,
   "metadata": {},
   "outputs": [
    {
     "name": "stdout",
     "output_type": "stream",
     "text": [
      "Vecteurs de base du réseau réciproque :\n",
      "[[ 1.50737914 -0.78386733  0.        ]\n",
      " [ 0.          1.69901144  0.        ]\n",
      " [-1.29114666 -0.78386733  0.77790242]]\n",
      "\n",
      "\n"
     ]
    }
   ],
   "source": [
    "#réseau réciproque\n",
    "reciprocalNetwork = structure.lattice.reciprocal_lattice\n",
    "\n",
    "#calcul et affichage des vecteurs du réseau réciproque\n",
    "print(\"Vecteurs de base du réseau réciproque :\")\n",
    "print(spa.find_primitive().lattice.rhombohedral(a,alpha).reciprocal_lattice.matrix)\n",
    "print(\"\\n\")"
   ]
  },
  {
   "cell_type": "code",
   "execution_count": 6,
   "metadata": {},
   "outputs": [],
   "source": [
    "#le reste\n",
    "\n",
    "#type de maille\n",
    "latticeType = spa.get_lattice_type()\n",
    "#système cristallin\n",
    "cristalSystem = spa.get_crystal_system()\n",
    "#groupe ponctuel\n",
    "pointGroup = spa.get_point_group_symbol()"
   ]
  },
  {
   "cell_type": "code",
   "execution_count": 7,
   "metadata": {},
   "outputs": [
    {
     "name": "stdout",
     "output_type": "stream",
     "text": [
      "------------------------------  ------------------------------------------------------------\n",
      "Vecteurs du réseau direct       4.164641 -0.002581 6.920628\n",
      "                                1.919793 3.695760 6.920628\n",
      "                                -0.004253 -0.002581 8.077085\n",
      "                                ------------------------------------------------------------\n",
      "Longueurs (a,b,c)               (8.077086703595654, 8.077086706045057, 8.077086702121592)\n",
      "Angles (alpha,beta,gamma)       (31.068525916388843, 31.06852589146119, 31.06852588817123)\n",
      "------------------------------  ------------------------------------------------------------\n",
      "Vecteurs du réseau réciproque   1.507309 -0.784001 0.000543\n",
      "                                0.000151 1.699011 0.000543\n",
      "                                -1.291626 -0.784001 0.776972\n",
      "                                ------------------------------------------------------------\n",
      "Longueurs (a,b,c)               (1.6990114378967087, 1.6990114361545903, 1.6990114368179632)\n",
      "Angles (alpha,beta,gamma)       (117.47533438302476, 117.47533446258778, 117.47533447308857)\n",
      "------------------------------  ------------------------------------------------------------\n",
      "Type de maille                  rhombohedral\n",
      "Système cristallin              trigonal\n",
      "Groupe ponctuel                 -3m\n",
      "------------------------------  ------------------------------------------------------------\n"
     ]
    }
   ],
   "source": [
    "#affichage des dernières données\n",
    "\n",
    "print(tabulate([\n",
    "    [\"Vecteurs du réseau direct\",str(directNetwork)], \n",
    "\t[\"\",\"------------------------------------------------------------\"],\n",
    "\t[\"Longueurs (a,b,c)\",str(directNetwork.abc)],\n",
    "\t[\"Angles (alpha,beta,gamma)\",str(directNetwork.angles)],\n",
    "\t[\"------------------------------\",\"------------------------------------------------------------\"],\n",
    "\t[\"Vecteurs du réseau réciproque\", str(reciprocalNetwork)],\n",
    "\t[\"\",\"------------------------------------------------------------\"],\n",
    "\t[\"Longueurs (a,b,c)\",str(reciprocalNetwork.abc)],\n",
    "\t[\"Angles (alpha,beta,gamma)\",str(reciprocalNetwork.angles)],\n",
    "\t[\"------------------------------\",\"------------------------------------------------------------\"],\n",
    "\t[\"Type de maille\",str(latticeType)],\n",
    "\t[\"Système cristallin\",str(cristalSystem)],\n",
    "\t[\"Groupe ponctuel\",str(pointGroup)]]))"
   ]
  },
  {
   "cell_type": "markdown",
   "metadata": {},
   "source": [
    "La système cristallin du $RbLaS_2$ est donc le système *trigonal* et la maille est de type *rhomboédrique*.\n",
    "\n",
    "Son groupe spatial est $R\\overline{3}m$.\n",
    "\n",
    "On utilise le package $symmetry.analyzer$ pour obtenir les informations relatives aux grandeurs caractéristiques de la maille.\n",
    "\n"
   ]
  },
  {
   "cell_type": "markdown",
   "metadata": {},
   "source": [
    "<img src=\"latticepics/RbLaS2mol.png\">"
   ]
  },
  {
   "cell_type": "markdown",
   "metadata": {},
   "source": [
    "Ci-dessus, on peut voir le motif répété dans la maille. On constate bien l'atome de Rubidium en <span style=\"color:#702EB0\">mauve</span> et de coordonnées réduites $\\begin{pmatrix}0 & 0 & 0\\end{pmatrix}$, le Lanthane en <span style=\"color:#70D4FF\">bleu</span>, de coordonnées réduites $\\begin{pmatrix}0.5 & 0.5 & 0.5\\end{pmatrix}$ et les deux atomes de Soufre en <span style=\"color:#FFFF30\">jaune</span>, dont les coordonnées réduites sont $\\begin{pmatrix}0.23 & 0.23 & 0.23 \\end{pmatrix}$ et $\\begin{pmatrix}0.77 & 0.77 & 0.77 \\end{pmatrix}$."
   ]
  },
  {
   "cell_type": "markdown",
   "metadata": {},
   "source": [
    "La maille conventionnelle est la suivante : "
   ]
  },
  {
   "cell_type": "markdown",
   "metadata": {},
   "source": [
    "<img src=\"latticepics/symmetrized.jpg\">"
   ]
  },
  {
   "cell_type": "markdown",
   "metadata": {},
   "source": [
    "et la maille primitive est : "
   ]
  },
  {
   "cell_type": "markdown",
   "metadata": {},
   "source": [
    "<img src=\"latticepics/primitive.jpg\">"
   ]
  },
  {
   "cell_type": "markdown",
   "metadata": {},
   "source": [
    "On constate bien la présence de $8$ \"*huitièmes*\" d'atomes de Rb, un atome de La et deux atome de S dans la cellule primitive. "
   ]
  },
  {
   "cell_type": "markdown",
   "metadata": {},
   "source": [
    "### Réseau direct\n",
    "Comme indiqué ci-dessus, les longueurs des trois vecteurs de base $\\begin{pmatrix}a&b&c\\end{pmatrix}$ valent $\\begin{pmatrix}8.077&8.077&8.077\\end{pmatrix} \\mathring{A}$.\n",
    "\n",
    "Les angles $\\begin{pmatrix}\\alpha&\\beta&\\gamma\\end{pmatrix}$ valent $\\begin{pmatrix}31.07&31.07&31.07\\end{pmatrix}^\\circ$. On retrouve donc bien les 3 vecteurs de base de longueur identique et les 3 angles de bases également identiques et différents de $90^\\circ$ propres aux systèmes cristallins trigonaux.\n",
    "\n",
    "Les vecteurs de base du réseau direct sont donnés par : <div align=\"center\">$\\begin{align*}\\vec{a}&=a\\cdot \\begin{pmatrix}4.16828463 & 0 & 6.91843428\\end{pmatrix}\\\\\\vec{b}&=b\\cdot \\begin{pmatrix}1.92310779 &3.69814186& 6.91843428\\end{pmatrix}\\\\\\vec{c}&=c\\cdot \\begin{pmatrix}0& 0 &8.0770867 \\end{pmatrix}\\end{align*}$</div>\n",
    "Et l'on peut donc déterminer le volume de la maille par <div align=\"center\">$\\begin{align*}\\Omega &= \\vec{a}\\cdot(\\vec{b}\\times\\vec{c})\\\\&=124.508\\mathring{A}^3\\end{align*}$</div>"
   ]
  },
  {
   "cell_type": "markdown",
   "metadata": {},
   "source": [
    "### Réseau réciproque\n",
    "Il est en outre possible de déterminer théoriquement les vecteurs de base du réseau réciproque via\n",
    "\n",
    "<div align=\"center\">$\\begin{equation*}\\vec{a}^* = \\dfrac{2\\pi}{\\Omega}(\\vec{b}\\times\\vec{c}) = \\begin{pmatrix} 1.50737914 & -0.78386733 & 0 \\end{pmatrix} \\end{equation*}$</div>\n",
    "\n",
    "<div align=\"center\">$\\begin{equation*}\\vec{b}^* = \\dfrac{2\\pi}{\\Omega}(\\vec{c}\\times\\vec{a}) = \\begin{pmatrix}0 & 1.69901144  &0\\end{pmatrix}\\end{equation*}$</div>\n",
    "\n",
    "<div align=\"center\">$\\begin{equation*}\\vec{c}^* = \\dfrac{2\\pi}{\\Omega}(\\vec{a}\\times\\vec{b}) = \\begin{pmatrix}-1.29114666& -0.78386733  &0.77790242\\end{pmatrix}\\end{equation*}$</div>\n",
    "\n",
    "Ces résultats sont vérifiés par les données obtenues dans le code.\n",
    "Et le volume de la maille dans le réseau réciproque est donc donné par \n",
    "<div align=\"center\">$\\begin{align*}\\Omega^* &= \\vec{a}^*\\cdot(\\vec{b}^*\\times\\vec{c}^*)\\\\&=1.992\\mathring{A}^3\\end{align*}$</div>\n",
    "On remarque que la relation <div align=\"center\">$\\begin{equation*}\\Omega^* = \\dfrac{(2\\pi)^3}{\\Omega}\\end{equation*}$</div> est bien respectée."
   ]
  }
 ],
 "metadata": {
  "kernelspec": {
   "display_name": "Python 3",
   "language": "python",
   "name": "python3"
  },
  "language_info": {
   "codemirror_mode": {
    "name": "ipython",
    "version": 3
   },
   "file_extension": ".py",
   "mimetype": "text/x-python",
   "name": "python",
   "nbconvert_exporter": "python",
   "pygments_lexer": "ipython3",
   "version": "3.6.8"
  }
 },
 "nbformat": 4,
 "nbformat_minor": 2
}
