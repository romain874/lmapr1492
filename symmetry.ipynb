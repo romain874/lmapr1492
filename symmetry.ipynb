{
 "cells": [
  {
   "cell_type": "code",
   "execution_count": 15,
   "id": "c416592c",
   "metadata": {},
   "outputs": [
    {
     "data": {
      "application/vnd.jupyter.widget-view+json": {
       "model_id": "9d6a56ac0e934b17a0858101601b598f",
       "version_major": 2,
       "version_minor": 0
      },
      "text/plain": [
       "Retrieving MaterialsDoc documents:   0%|          | 0/1 [00:00<?, ?it/s]"
      ]
     },
     "metadata": {},
     "output_type": "display_data"
    },
    {
     "name": "stdout",
     "output_type": "stream",
     "text": [
      "\n",
      "Image de la structure cristalline initial\n",
      "\n"
     ]
    },
    {
     "data": {
      "application/vnd.jupyter.widget-view+json": {
       "model_id": "89b1bc9708be40fda990282426b50558",
       "version_major": 2,
       "version_minor": 0
      },
      "text/plain": [
       "JsmolView(layout=Layout(align_self='stretch', height='400px'))"
      ]
     },
     "metadata": {},
     "output_type": "display_data"
    },
    {
     "name": "stdout",
     "output_type": "stream",
     "text": [
      "\n",
      "Réflexion\n",
      "\n",
      "Matrice de transformation :\n",
      "[[-1.  0.  0.]\n",
      " [ 0. -1.  0.]\n",
      " [ 0.  0. -1.]]\n",
      "\n",
      "Opération de symétrie pour l'atome Na (indice 1) :\n",
      "\n",
      "Position initiale de l'atome Na : [0.66666667 0.33333333 0.83333333]\n",
      "Position finale de l'atome Na : [-0.66666667 -0.33333333 -0.83333333]\n",
      "\n"
     ]
    },
    {
     "data": {
      "application/vnd.jupyter.widget-view+json": {
       "model_id": "9ee0722563324d8a97592658e5039dca",
       "version_major": 2,
       "version_minor": 0
      },
      "text/plain": [
       "JsmolView(layout=Layout(align_self='stretch', height='400px'))"
      ]
     },
     "metadata": {},
     "output_type": "display_data"
    },
    {
     "name": "stdout",
     "output_type": "stream",
     "text": [
      "\n",
      "Rotation\n",
      "\n",
      "Matrice de transformation :\n",
      "[[ 0. -1.  0.]\n",
      " [ 1. -1.  0.]\n",
      " [ 0.  0.  1.]]\n",
      "\n",
      "Opération de symétrie pour l'atome In (indice 5) :\n",
      "\n",
      "Position initiale de l'atome In : [0.66666667 0.33333333 0.33333333]\n",
      "Position finale de l'atome In : [-0.33333333  0.33333333  0.33333333]\n",
      "\n"
     ]
    },
    {
     "data": {
      "application/vnd.jupyter.widget-view+json": {
       "model_id": "3eda196e49bf4c5b961fae340ab06c74",
       "version_major": 2,
       "version_minor": 0
      },
      "text/plain": [
       "JsmolView(layout=Layout(align_self='stretch', height='400px'))"
      ]
     },
     "metadata": {},
     "output_type": "display_data"
    },
    {
     "name": "stdout",
     "output_type": "stream",
     "text": [
      "\n",
      "Roto-inversion\n",
      "\n",
      "Matrice de transformation :\n",
      "[[ 0. -1.  0.]\n",
      " [-1.  0.  0.]\n",
      " [ 0.  0.  1.]]\n",
      "\n",
      "Opération de symétrie pour l'atome S (indice 8) :\n",
      "\n",
      "Position initiale de l'atome S : [0.33333333 0.66666667 0.92628399]\n",
      "Position finale de l'atome S : [-0.66666667 -0.33333333  0.92628399]\n",
      "\n"
     ]
    },
    {
     "data": {
      "application/vnd.jupyter.widget-view+json": {
       "model_id": "22019aa94eba414eb98127846b74e717",
       "version_major": 2,
       "version_minor": 0
      },
      "text/plain": [
       "JsmolView(layout=Layout(align_self='stretch', height='400px'))"
      ]
     },
     "metadata": {},
     "output_type": "display_data"
    }
   ],
   "source": [
    "# Aides utilisées : exemples de Jupyter Notebook + Mistral\n",
    "import numpy as np\n",
    "from mp_api.client import MPRester\n",
    "from pymatgen.core.operations import SymmOp\n",
    "from pymatgen.symmetry.analyzer import SpacegroupAnalyzer\n",
    "from jupyter_jsmol.pymatgen import quick_view\n",
    "from IPython.display import display\n",
    "\n",
    "mp_key = \"kHK7l7itQo2c5bLbQQIsHOTh5cQ7HUnw\"\n",
    "mp_id = \"mp-20289\"  # NaInS2\n",
    "\n",
    "# On récupère la structure cristalline à partir de Materials Project\n",
    "with MPRester(mp_key) as m:\n",
    "    prim_struc = m.get_structure_by_material_id(mp_id)  # Structure cristalline primitive(donc la maille primitive)\n",
    "    conv_struc = SpacegroupAnalyzer(prim_struc).get_conventional_standard_structure()  # Structure cristalline conventionnelle (plus grande que la maille primitive)\n",
    "    symmops = SpacegroupAnalyzer(conv_struc).get_space_group_operations()  # On obtient les opérations de symétries\n",
    "\n",
    "# On affiche la structure initiale\n",
    "print(f\"\\nImage de la structure cristalline initial\\n\")\n",
    "view = quick_view(conv_struc, \"packed\", conventional=True)\n",
    "display(view)\n",
    "view.script('rotate on')\n",
    "\n",
    "# Fonction pour afficher les coordonnées et la réprésentation avec JSmol\n",
    "def display_symmetry_operation(i_atom, i_symmop, atom_name, operation_type):\n",
    "    symmop = symmops[i_symmop]\n",
    "    matrix = symmop.rotation_matrix\n",
    "\n",
    "    # On affiche le type d'opération et la matrice de transformation\n",
    "    print(f\"\\n{operation_type}\\n\")\n",
    "    print(f\"Matrice de transformation :\\n{matrix}\\n\")\n",
    "    print(f\"Opération de symétrie pour l'atome {atom_name} (indice {i_atom}) :\\n\")\n",
    "\n",
    "    # On calcule les positions initiales et finales de l'atome\n",
    "    pos_init = conv_struc.sites[i_atom - 1].frac_coords  ##On utilise les indices des positions des atomes\n",
    "    pos_final = symmop.operate(pos_init)\n",
    "    print(f\"Position initiale de l'atome {atom_name} : {pos_init}\")\n",
    "    print(f\"Position finale de l'atome {atom_name} : {pos_final}\\n\")\n",
    "\n",
    "    # On affiche la structure après l'opération de symétrie\n",
    "    view = quick_view(conv_struc, \"packed\", conventional=True)\n",
    "    display(view)\n",
    "    view.script(f'draw SYMOP {i_symmop + 1} {{atomno = {i_atom}}}')\n",
    "\n",
    "# Réflexion sur l'atome Na\n",
    "display_symmetry_operation(1, 1, \"Na\", \"Réflexion\")\n",
    "\n",
    "# Rotation sur l'atome In\n",
    "display_symmetry_operation(5, 2, \"In\", \"Rotation\")\n",
    "\n",
    "# Roto-inversion sur l'atome S\n",
    "display_symmetry_operation(8, 7, \"S\", \"Roto-inversion\")\n",
    "\n",
    "#pour trouver une matrice de transformation qui correspond à une roto-inversion,j'ai utilisé le fait que Une roto-inversion a une matrice de rotation avec un déterminant de −1 et n'est pas la matrice identité négative\n",
    "#pour trouver une matrice de transformation qui correspondent à une rotation, j'ai utilisé le fait que Une rotation a une matrice de rotation avec un déterminant de 1 et n'est pas la matrice identité.\n",
    "#pour trouver une matrice de transformation qui correspondent à une réflexion j'ai utilisé le fait qu'une réflexion a une matrice de rotation avec un déterminant de −1 et au moins un −1 sur la diagonale."
   ]
  },
  {
   "cell_type": "code",
   "execution_count": null,
   "id": "3ad5cfe1",
   "metadata": {},
   "outputs": [],
   "source": []
  }
 ],
 "metadata": {
  "kernelspec": {
   "display_name": "Python 3 (ipykernel)",
   "language": "python",
   "name": "python3"
  },
  "language_info": {
   "codemirror_mode": {
    "name": "ipython",
    "version": 3
   },
   "file_extension": ".py",
   "mimetype": "text/x-python",
   "name": "python",
   "nbconvert_exporter": "python",
   "pygments_lexer": "ipython3",
   "version": "3.9.13"
  }
 },
 "nbformat": 4,
 "nbformat_minor": 5
}
