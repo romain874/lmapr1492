{
 "cells": [
  {
   "cell_type": "markdown",
   "id": "6dd01c58",
   "metadata": {},
   "source": [
    "# Tâche 4"
   ]
  },
  {
   "cell_type": "markdown",
   "id": "09cec701",
   "metadata": {},
   "source": [
    "### Ce notebook permet de déterminer pour le NaInS2: les vecteurs de bases de ses réseaux direct et réciproque, son type de maille, son système cristallin et son groupe ponctuel."
   ]
  },
  {
   "cell_type": "code",
   "execution_count": 1,
   "id": "a1cc2fcb",
   "metadata": {},
   "outputs": [
    {
     "data": {
      "application/vnd.jupyter.widget-view+json": {
       "model_id": "9c1cc3606cb44b76b25a567d69d5010c",
       "version_major": 2,
       "version_minor": 0
      },
      "text/plain": [
       "Retrieving MaterialsDoc documents:   0%|          | 0/1 [00:00<?, ?it/s]"
      ]
     },
     "metadata": {},
     "output_type": "display_data"
    },
    {
     "data": {
      "text/html": [
       "<a href='mp-20289.cif' target='_blank'>mp-20289.cif</a><br>"
      ],
      "text/plain": [
       "/home/users/r/p/rperger/mp-20289.cif"
      ]
     },
     "metadata": {},
     "output_type": "display_data"
    },
    {
     "name": "stdout",
     "output_type": "stream",
     "text": [
      "Les vecteurs du réseau direct : \n",
      "\n",
      "1.908406 -3.305455 0.000000\n",
      "1.908406 3.305455 0.000000\n",
      "0.000000 0.000000 19.887594\n",
      "\n",
      "Les longueurs en Angström : \n",
      "\n",
      "a = 3.81681116079536\n",
      "b = 3.81681116079536\n",
      "c = 19.88759370298708\n",
      "\n",
      "Les angles en degrés : \n",
      "\n",
      "alpha =  90.0\n",
      "beta =  90.0\n",
      "gamma =  119.99999999999999\n",
      "Les vecteurs du réseau réciproque : \n",
      "\n",
      "1.646187 -0.950427 0.000000\n",
      "1.646187 0.950427 0.000000\n",
      "0.000000 0.000000 0.315935\n",
      "\n",
      "Les longueurs en Angström : \n",
      "\n",
      "a = 1.9008531340138421\n",
      "b = 1.900853134013842\n",
      "c = 0.3159349190765027\n",
      "\n",
      "Les angles en degrés : \n",
      "\n",
      "alpha =  90.0\n",
      "beta =  90.0\n",
      "gamma =  60.00000000000001\n",
      "\n",
      "Le type de maille : \n",
      "\n",
      "rhombohedral\n",
      "\n",
      "Le système cristallin : \n",
      "\n",
      "trigonal\n",
      "\n",
      "Le groupe ponctuel : \n",
      "\n",
      "-3m\n"
     ]
    }
   ],
   "source": [
    "from pymatgen.core import Structure\n",
    "\n",
    "from pymatgen.ext.matproj import MPRester\n",
    "from pymatgen.io.cif import CifWriter\n",
    "from IPython.display import FileLink\n",
    "from pymatgen.symmetry.analyzer import SpacegroupAnalyzer\n",
    "#inspiré du github\n",
    "\n",
    "key = \"kHK7l7itQo2c5bLbQQIsHOTh5cQ7HUnw\"  #on utilise la clé API pour pouvoir utiliser materials project\n",
    "material = \"mp-20289\"   # identifiant du materiaux NaInS2\n",
    "m = MPRester(key)\n",
    "struct = m.get_structure_by_material_id(material,conventional_unit_cell=True) #on récupère la structure\n",
    "\n",
    "#on créer un lien vers la structure\n",
    "w = CifWriter(struct)    \n",
    "w.write_file(material+\".cif\") \n",
    "display(FileLink(material+\".cif\"))\n",
    "\n",
    "#on détermine les vecteurs de bases des réseaux direct et réciproque, le type de maille, le système cristallin ainsi que le groupe ponctuel\n",
    "vect = struct.lattice\n",
    "print(\"Les vecteurs du réseau direct : \\n\")\n",
    "print(vect)\n",
    "lengths = vect.abc\n",
    "print(\"\\nLes longueurs en Angström : \\n\")\n",
    "print(\"a = \" + str(lengths[0]))\n",
    "print(\"b = \" + str(lengths[1]))\n",
    "print(\"c = \" + str(lengths[2]))\n",
    "print(\"\\nLes angles en degrés : \\n\")\n",
    "angle = vect.angles\n",
    "print(\"alpha = \",angle[0])\n",
    "print(\"beta = \",angle[1])\n",
    "print(\"gamma = \",angle[2])\n",
    "\n",
    "vect_r = struct.lattice.reciprocal_lattice\n",
    "print(\"Les vecteurs du réseau réciproque : \\n\")\n",
    "print(vect_r)\n",
    "lengths_r = vect_r.abc\n",
    "print(\"\\nLes longueurs en Angström : \\n\")\n",
    "print(\"a = \" + str(lengths_r[0]))\n",
    "print(\"b = \" + str(lengths_r[1]))\n",
    "print(\"c = \" + str(lengths_r[2]))\n",
    "print(\"\\nLes angles en degrés : \\n\")\n",
    "angle_r = vect_r.angles\n",
    "print(\"alpha = \",angle_r[0])\n",
    "print(\"beta = \",angle_r[1])\n",
    "print(\"gamma = \",angle_r[2])\n",
    "\n",
    "print(\"\\nLe type de maille : \\n\")\n",
    "latt = SpacegroupAnalyzer(struct).get_lattice_type()\n",
    "print(latt[:])\n",
    "\n",
    "print(\"\\nLe système cristallin : \\n\")\n",
    "syst = SpacegroupAnalyzer(struct).get_crystal_system()\n",
    "print(syst[:])\n",
    "\n",
    "print(\"\\nLe groupe ponctuel : \\n\")\n",
    "point = SpacegroupAnalyzer(struct).get_point_group_symbol()\n",
    "print(point)\n",
    "\n",
    "\n",
    "\n"
   ]
  },
  {
   "cell_type": "code",
   "execution_count": null,
   "id": "370866fe",
   "metadata": {},
   "outputs": [],
   "source": []
  }
 ],
 "metadata": {
  "kernelspec": {
   "display_name": "Python 3 (ipykernel)",
   "language": "python",
   "name": "python3"
  },
  "language_info": {
   "codemirror_mode": {
    "name": "ipython",
    "version": 3
   },
   "file_extension": ".py",
   "mimetype": "text/x-python",
   "name": "python",
   "nbconvert_exporter": "python",
   "pygments_lexer": "ipython3",
   "version": "3.9.13"
  }
 },
 "nbformat": 4,
 "nbformat_minor": 5
}
